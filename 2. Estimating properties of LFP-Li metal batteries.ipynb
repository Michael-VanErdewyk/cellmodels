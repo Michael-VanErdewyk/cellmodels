{
 "cells": [
  {
   "cell_type": "markdown",
   "id": "5d9cae1e",
   "metadata": {},
   "source": [
    "# Estimating properties of LFP-Li batteries\n",
    "\n",
    "## 1. Challenge laid down\n",
    "\n",
    "Dennis Kopljar suggested, in a tweet below, a nice exercise with this tool in which we look at what energy densities might be realistic for hypothetical battery cells with an LFP cathode and a Li metal anode. This follows recent articles by the journalist Steve Levine discussing the growing interest in this possibility, and the solid-state company QuantumScape also announcing they were looking into this.\n",
    "\n",
    "<blockquote class=\"twitter-tweet\"><p lang=\"en\" dir=\"ltr\">First community exercise 😬<br>What energy densities can be achieved / are realistic with this approach? <a href=\"https://t.co/U08s5kPA3G\">https://t.co/U08s5kPA3G</a></p>&mdash; Dennis Kopljar 🔋⚡ (@DennisKopljar) <a href=\"https://twitter.com/DennisKopljar/status/1427952947384700932?ref_src=twsrc%5Etfw\">August 18, 2021</a></blockquote> <script async src=\"https://platform.twitter.com/widgets.js\" charset=\"utf-8\"></script>\n",
    "\n",
    "As it has turned out, this notebook covers a lot of possibilities/hacks with this code, from Li metal anodes, to solid state electrolytes, to anode-free, but also batch calculations with `for` loops. Let's get stuck in.\n",
    "\n",
    "## 2. Get started\n",
    "\n",
    "I recommend reading the quickstart notebook if you haven't already."
   ]
  },
  {
   "cell_type": "code",
   "execution_count": 1,
   "id": "52d06359",
   "metadata": {
    "scrolled": true
   },
   "outputs": [
    {
     "data": {
      "text/plain": [
       "volumetric_energy (generic function with 3 methods)"
      ]
     },
     "execution_count": 1,
     "metadata": {},
     "output_type": "execute_result"
    }
   ],
   "source": [
    "# Uncomment this line if the cellmodel.jl file is not already in the working folder.\n",
    "# download(\"https://raw.githubusercontent.com/mjlacey/cellmodels/master/cellmodel.jl\", \"cellmodel.jl\")\n",
    "\n",
    "# Include the cellmodel.jl file it to load the required packages and functions.\n",
    "include(\"cellmodel.jl\")"
   ]
  },
  {
   "cell_type": "markdown",
   "id": "920c6a71",
   "metadata": {},
   "source": [
    "## 3. Model building\n",
    "\n",
    "## 3.1 Material definitions\n",
    "\n",
    "Let's define the materials we want to use. Most of these are defined already in the Quickstart notebook, but the new one we will introduce is LFP. For the purposes of this exercise, I am estimating an LFP material with a specific capacity of 165 ± 5 mAh/g and an average discharge potential of 3.375 ± 0.025 V. For this exercise we will compare it with the state-of-the-art layered oxide cathode, NMC811, where I have estimated 195 ± 5 mAh/g and an average potential of 3.86 V under practical conditions, from the literature."
   ]
  },
  {
   "cell_type": "code",
   "execution_count": 2,
   "id": "c6184822",
   "metadata": {
    "scrolled": true
   },
   "outputs": [
    {
     "data": {
      "text/plain": [
       "Separator\n",
       "  name: String \"porous PE + alumina\"\n",
       "  thickness: Float64 0.0012\n",
       "  porosity: Float64 0.44\n",
       "  density: Float64 1.18\n"
      ]
     },
     "execution_count": 2,
     "metadata": {},
     "output_type": "execute_result"
    }
   ],
   "source": [
    "# Positive electrodes\n",
    "NMC811 = ActiveMaterial(\"NMC811\", 195 ± 5, 3.86)    # NMC811 determined from literature\n",
    "LFP = ActiveMaterial(\"LFP\", 165 ± 5, 3.375 ± 0.025) # LFP capacities and potential estimated\n",
    "\n",
    "# Negative electrodes\n",
    "Gr = ActiveMaterial(\"Graphite\", 344 ± 8.6, 0.17)    # Gr determined from literature\n",
    "\n",
    "# Current collectors\n",
    "Al14 = CurrentCollector(\"Al\", 14E-4) # 14 µm Al\n",
    "Cu8 = CurrentCollector(\"Cu\", 8E-4)   # 8 µm Al\n",
    "\n",
    "# Electrolytes\n",
    "LP40 = Electrolyte(salt = \"LiPF6\", solvent = \"EC:DEC\", concentration = 1.1 ± 0.1)\n",
    "\n",
    "# Separator\n",
    "PE_Al12 = Separator(name = \"porous PE + alumina\", thickness = 12E-4, porosity = 0.44, density = 1.18)"
   ]
  },
  {
   "cell_type": "markdown",
   "id": "28d5e420",
   "metadata": {},
   "source": [
    "## 3.2 Cell model\n",
    "\n",
    "Here we will use the `PouchCell` model. This is of course defined a bit differently from the cylindrical cell. It assumes a rectangular, stacked cell, with 0.5 mm thick tabs of Al and Ni to contact the electrodes. At the moment, the `PouchCell` can only be defined with a set number of layers, rather than a maximum thickness, unlike the other models which all fit the electrodes into a constrained space. I will likely update this later, but for the moment this results in cells which can vary in thickness depending on the materials used.\n",
    "\n",
    "The model is constructed with electrodes similar to those used in the Quickstart guide. We are assuming a typical automotive-size format, 30 x 10 cm, and 35 layers, which should give us a thickness around 1 cm. The pouch is assumed to be 113 µm thick Al/polymer laminate with an average density of 1.8 g/cm, and the pouch extending 1 cm from the jelly roll on the long and wide sides. The terminals are 2 x 5 cm each, and we are assuming 10 ± 10 g of unaccounted-for mass."
   ]
  },
  {
   "cell_type": "code",
   "execution_count": 3,
   "id": "46941f77",
   "metadata": {},
   "outputs": [
    {
     "data": {
      "text/plain": [
       "A benchmark NMC811 automotive pouch cell\n",
       "NMC811 cathode @ 3.3 ± 0.1 mAh/cm2\n",
       "64.4 ± 2.4 Ah, 237.8 ± 8.8 Wh\n",
       "925.0 ± 26.0 g\n",
       "257.2 ± 8.3 Wh/kg\n",
       "634.0 ± 32.0 Wh/L\n"
      ]
     },
     "execution_count": 3,
     "metadata": {},
     "output_type": "execute_result"
    }
   ],
   "source": [
    "cell = PouchCell(\n",
    "    name = \"A benchmark NMC811 automotive pouch cell\",\n",
    "    positive = Electrode(\n",
    "        ElectrodeComposite(\n",
    "            active_material = NMC811, \n",
    "            areal_cap = 3.3 ± 0.1, \n",
    "            active_frac = 0.95 ± 0.02, \n",
    "            density = 3.5 ± 0.1),\n",
    "        Al14\n",
    "    ),\n",
    "    negative = Electrode(\n",
    "        ElectrodeComposite(\n",
    "            active_material = Gr, \n",
    "            areal_cap = (3.3 ± 0.1) * (1.1 ± 0.03), \n",
    "            active_frac = 0.965 ± 0.01, \n",
    "            density = 1.6 ± 0.1),\n",
    "        Cu8\n",
    "    ),\n",
    "    separator = PE_Al12,\n",
    "    electrolyte = LP40,\n",
    "    ecap_ratio = 1.7 ± 0.1,\n",
    "    \n",
    "    height = 30.0, width = 10.0, nlayers = 35,\n",
    "    pouchthickness = 113E-4,\n",
    "    pouchdensity = 1.8,\n",
    "    pouchclearance = 1.0,\n",
    "    termh = 2.0, termw = 5.0,\n",
    "    extramass = 10 ± 10,\n",
    "    llifactor = 0.93 ± 0.02\n",
    ")"
   ]
  },
  {
   "cell_type": "markdown",
   "id": "e6dfce65",
   "metadata": {},
   "source": [
    "This gives us a 64.4 Ah cell (and with this definition of cell, every subsequent cell here will also be 64.4 Ah), with an energy density of 257 Wh/kg and 634 Wh/L. This sounds pretty sensible, so we can continue.\n",
    "\n",
    "## 3.3 Cell model function\n",
    "\n",
    "From here on we want to compare LFP with NMC811, with some different tweaks to the cell model, so we will want to make several different cell models. To make this easier, we can make a simple function, let's call it `automotive_pouch()`, based on the previous code cell where we can change individual parameters at a time."
   ]
  },
  {
   "cell_type": "code",
   "execution_count": 4,
   "id": "aa74bea3",
   "metadata": {},
   "outputs": [
    {
     "data": {
      "text/plain": [
       "An example automotive pouch cell\n",
       "NMC811 cathode @ 3.3 ± 0.1 mAh/cm2\n",
       "64.4 ± 2.4 Ah, 237.8 ± 8.8 Wh\n",
       "925.0 ± 26.0 g\n",
       "257.2 ± 8.3 Wh/kg\n",
       "634.0 ± 32.0 Wh/L\n"
      ]
     },
     "execution_count": 4,
     "metadata": {},
     "output_type": "execute_result"
    }
   ],
   "source": [
    "function automotive_pouch(;\n",
    "        name = \"An example automotive pouch cell\", \n",
    "        positive = Electrode(\n",
    "            ElectrodeComposite(\n",
    "                active_material = NMC811, \n",
    "                areal_cap = 3.3 ± 0.1, \n",
    "                active_frac = 0.95 ± 0.02, \n",
    "                density = 3.5 ± 0.1),\n",
    "            Al14\n",
    "        ), \n",
    "        negative = Electrode(\n",
    "            ElectrodeComposite(\n",
    "                active_material = Gr, \n",
    "                areal_cap = (3.3 ± 0.1) * (1.1 ± 0.03), \n",
    "                active_frac = 0.965 ± 0.01, \n",
    "                density = 1.6 ± 0.1),\n",
    "            Cu8\n",
    "        ), \n",
    "        separator = PE_Al12,\n",
    "        electrolyte = LP40, \n",
    "        ecap_ratio = 1.7 ± 0.1,\n",
    "        height = 30.0, width = 10.0, nlayers = 35, \n",
    "        pouchthickness = 113E-4, \n",
    "        pouchdensity = 1.8, \n",
    "        pouchclearance = 1.0, \n",
    "        termh = 2.0, termw = 5.0, \n",
    "        extramass = 10 ± 10, llifactor = 0.93 ± 0.02)\n",
    "        \n",
    "    cell = PouchCell(\n",
    "        name = name,\n",
    "        positive = positive,\n",
    "        negative = negative,\n",
    "        separator = separator,\n",
    "        electrolyte = electrolyte,\n",
    "        ecap_ratio = ecap_ratio,\n",
    "    \n",
    "        height = height, width = width, nlayers = nlayers,\n",
    "        pouchthickness = pouchthickness,\n",
    "        pouchdensity = pouchdensity,\n",
    "        pouchclearance = pouchclearance,\n",
    "        termh = termh, termw = termw,\n",
    "        extramass = extramass,\n",
    "        llifactor = llifactor\n",
    "    )\n",
    "    \n",
    "    return cell\n",
    "end\n",
    "\n",
    "# Now let's check it works\n",
    "automotive_pouch()"
   ]
  },
  {
   "cell_type": "markdown",
   "id": "17cea7a1",
   "metadata": {},
   "source": [
    "## 3.4 Batch processing\n",
    "\n",
    "To compare LFP with NMC811 in these different situations I will use the previous function in a `for` loop with some of the properties I want to change in some sort of array I can refer to. The main ones I want to change for now are the materials themselves, and the electrode density, to reflect the different densities of the materials. For this, I'm going to assume NMC811 has a bulk density of 5 g/cc, and for LFP 3.6 g/cc, and that both can be calendered to a porosity of 27-33% compared to the theoretical bulk density. I can put this information in a `DataFrame`, like so:"
   ]
  },
  {
   "cell_type": "code",
   "execution_count": 5,
   "id": "92b2cd54",
   "metadata": {},
   "outputs": [
    {
     "data": {
      "text/html": [
       "<table class=\"data-frame\"><thead><tr><th></th><th>material</th><th>density</th></tr><tr><th></th><th>ActiveM…</th><th>Measure…</th></tr></thead><tbody><p>2 rows × 2 columns</p><tr><th>1</th><td>ActiveMaterial(\"NMC811\", 195.0±5.0, 3.86)</td><td>3.5±0.15</td></tr><tr><th>2</th><td>ActiveMaterial(\"LFP\", 165.0±5.0, 3.375±0.025)</td><td>2.52±0.11</td></tr></tbody></table>"
      ],
      "text/latex": [
       "\\begin{tabular}{r|cc}\n",
       "\t& material & density\\\\\n",
       "\t\\hline\n",
       "\t& ActiveM… & Measure…\\\\\n",
       "\t\\hline\n",
       "\t1 & ActiveMaterial(\"NMC811\", 195.0±5.0, 3.86) & $3.5 \\pm 0.15$ \\\\\n",
       "\t2 & ActiveMaterial(\"LFP\", 165.0±5.0, 3.375±0.025) & $2.52 \\pm 0.11$ \\\\\n",
       "\\end{tabular}\n"
      ],
      "text/plain": [
       "\u001b[1m2×2 DataFrame\u001b[0m\n",
       "\u001b[1m Row \u001b[0m│\u001b[1m material                          \u001b[0m\u001b[1m density   \u001b[0m\n",
       "\u001b[1m     \u001b[0m│\u001b[90m ActiveMa…                         \u001b[0m\u001b[90m Measurem… \u001b[0m\n",
       "─────┼──────────────────────────────────────────────\n",
       "   1 │ ActiveMaterial(\"NMC811\", 195.0±5…  3.5±0.15\n",
       "   2 │ ActiveMaterial(\"LFP\", 165.0±5.0,…  2.52±0.11"
      ]
     },
     "execution_count": 5,
     "metadata": {},
     "output_type": "execute_result"
    }
   ],
   "source": [
    "positives = DataFrame(\n",
    "    material = [NMC811, LFP],\n",
    "    density = [5 * (0.7 ± 0.03), 3.6 * (0.7 ± 0.03)]\n",
    ")"
   ]
  },
  {
   "cell_type": "markdown",
   "id": "2a21040f",
   "metadata": {},
   "source": [
    "In a `for` loop I can now make LFP and NMC811 cell models and pick certain properties of interest to output in a table:"
   ]
  },
  {
   "cell_type": "code",
   "execution_count": 6,
   "id": "7efe10fb",
   "metadata": {},
   "outputs": [
    {
     "name": "stdout",
     "output_type": "stream",
     "text": [
      "\u001b[1m2×7 DataFrame\u001b[0m\n",
      "\u001b[1m Row \u001b[0m│\u001b[1m material \u001b[0m\u001b[1m cell_energy \u001b[0m\u001b[1m cell_mass  \u001b[0m\u001b[1m grav_energy \u001b[0m\u001b[1m vol_energy \u001b[0m\u001b[1m electrode_thickness \u001b[0m\u001b[1m cell_thickness \u001b[0m\n",
      "\u001b[1m     \u001b[0m│\u001b[90m String   \u001b[0m\u001b[90m Number      \u001b[0m\u001b[90m Number     \u001b[0m\u001b[90m Number      \u001b[0m\u001b[90m Number     \u001b[0m\u001b[90m Number              \u001b[0m\u001b[90m Number         \u001b[0m\n",
      "─────┼─────────────────────────────────────────────────────────────────────────────────────────────────\n",
      "   1 │ NMC811      237.8±8.8  925.0±26.0    257.2±8.3  634.0±33.0             50.9±3.2     1.033±0.045\n",
      "   2 │ LFP         206.6±7.8  993.0±30.0    208.1±7.0  451.0±22.0             83.5±5.4     1.261±0.054\n"
     ]
    }
   ],
   "source": [
    "result = DataFrame(material = String[], cell_energy = Number[], cell_mass = Number[], \n",
    "    grav_energy = Number[], vol_energy = Number[], electrode_thickness = Number[], cell_thickness = Number[])\n",
    "\n",
    "for i in 1:nrow(positives)\n",
    "    \n",
    "    cell = automotive_pouch(\n",
    "        positive = Electrode(\n",
    "            ElectrodeComposite(\n",
    "                active_material = positives[i,1], \n",
    "                areal_cap = 3.3 ± 0.1, \n",
    "                active_frac = 0.95 ± 0.02, \n",
    "                density = positives[i,2]),\n",
    "            Al14\n",
    "        )\n",
    "    )\n",
    "    \n",
    "    push!(result, [positives[i,1].name, cell.energy, mass(cell), \n",
    "            gravimetric_energy(cell), volumetric_energy(cell), \n",
    "            thickness(cell.positive.composite) * 1E4, thickness(cell)])\n",
    "    \n",
    "end\n",
    "\n",
    "println(result)"
   ]
  },
  {
   "cell_type": "markdown",
   "id": "75699c22",
   "metadata": {},
   "source": [
    "So, the results of comparing LFP with NMC811, all other parameters being the same, gives the LFP cell with an energy density of 208 Wh/kg, 451 Wh/L. These numbers are fairly similar to some of the state of the art LFP cells coming out now, so I think we can treat these as reasonable as well. The LFP cell has a bit lower energy as a result of the lower average voltage, and the lower density and capacity of LFP means that to reach 3.3 mAh/cm2, the electrode needs to be 84 µm thick compared to 51 µm for the NMC811. This makes the cell thicker, so the ratio of the volumetric energy to gravimetric is lower for LFP."
   ]
  },
  {
   "cell_type": "markdown",
   "id": "f97a7d44",
   "metadata": {},
   "source": [
    "# 4. Li metal\n",
    "\n",
    "Let's try and calculate some hypothetical Li metal cells. We can perhaps start by defining Li metal as an `ActiveMaterial` with a theoretical capacity of 3862 mAh/g, and a potential of 0.00 V (if we reference everything on the Li scale)."
   ]
  },
  {
   "cell_type": "code",
   "execution_count": 7,
   "id": "491585c9",
   "metadata": {
    "scrolled": true
   },
   "outputs": [
    {
     "data": {
      "text/plain": [
       "ActiveMaterial\n",
       "  name: String \"Li metal\"\n",
       "  spec_cap: Int64 3862\n",
       "  avg_E: Float64 0.0\n"
      ]
     },
     "execution_count": 7,
     "metadata": {},
     "output_type": "execute_result"
    }
   ],
   "source": [
    "# Li metal \n",
    "Li_metal = ActiveMaterial(\"Li metal\", 3862, 0.00)"
   ]
  },
  {
   "cell_type": "markdown",
   "id": "91536eb3",
   "metadata": {},
   "source": [
    "We can make another basic cell, where we assume the `ElectrodeComposite` is 100% Li metal with a density of 0.534 g/cc (the density of Li metal). At the moment, it's not possible to define the electrode by thickness alone, so here I have given the areal capacity as 10.32 mAh/cm2, which I know corresponds to about 50 µm thick Li foil, in theory. We're going to assume we're still using the same 8 µm Cu foil current collector."
   ]
  },
  {
   "cell_type": "code",
   "execution_count": 8,
   "id": "3693bf97",
   "metadata": {},
   "outputs": [
    {
     "data": {
      "text/plain": [
       "A benchmark NMC811/Li metal cell\n",
       "NMC811 cathode @ 3.3 ± 0.1 mAh/cm2\n",
       "64.4 ± 2.4 Ah, 248.8 ± 9.2 Wh\n",
       "746.0 ± 24.0 g\n",
       "333.0 ± 10.0 Wh/kg\n",
       "761.0 ± 25.0 Wh/L\n"
      ]
     },
     "execution_count": 8,
     "metadata": {},
     "output_type": "execute_result"
    }
   ],
   "source": [
    "cell = PouchCell(\n",
    "    name = \"A benchmark NMC811/Li metal cell\",\n",
    "    positive = Electrode(\n",
    "        ElectrodeComposite(\n",
    "            active_material = NMC811, \n",
    "            areal_cap = 3.3 ± 0.1, \n",
    "            active_frac = 0.95 ± 0.02, \n",
    "            density = 3.5 ± 0.1),\n",
    "        Al14\n",
    "    ),\n",
    "    negative = Electrode(\n",
    "        ElectrodeComposite(\n",
    "            active_material = Li_metal,          # <----\n",
    "            areal_cap = 10.32,                   # <---- I know from calculations, 50 µm Li ~= 10.3 mAh/cm2\n",
    "            active_frac = 1,                     # <---- 100% Li metal\n",
    "            density = 0.534),                    # <---- Density of Li metal\n",
    "        Cu8\n",
    "    ),\n",
    "    separator = PE_Al12,\n",
    "    electrolyte = LP40,\n",
    "    ecap_ratio = 1.7 ± 0.1,\n",
    "    \n",
    "    height = 30.0, width = 10.0, nlayers = 35,\n",
    "    pouchthickness = 113E-4,\n",
    "    pouchdensity = 1.8,\n",
    "    pouchclearance = 1.0,\n",
    "    termh = 2.0, termw = 5.0,\n",
    "    extramass = 10 ± 10,\n",
    "    llifactor = 0.93 ± 0.02\n",
    ")"
   ]
  },
  {
   "cell_type": "markdown",
   "id": "bde54177",
   "metadata": {},
   "source": [
    "This gives us an NMC811 cell with an energy density of 333 Wh/kg (30% more than graphite), 761 Wh/L (20% more than graphite). We can also check at this point that the thickness of the Li metal is what I think it is:"
   ]
  },
  {
   "cell_type": "code",
   "execution_count": 9,
   "id": "a7e3ac27",
   "metadata": {
    "scrolled": true
   },
   "outputs": [
    {
     "data": {
      "text/plain": [
       "50.04102200059351"
      ]
     },
     "execution_count": 9,
     "metadata": {},
     "output_type": "execute_result"
    }
   ],
   "source": [
    "thickness(cell.negative.composite) * 1E4"
   ]
  },
  {
   "cell_type": "markdown",
   "id": "48dc5e9c",
   "metadata": {},
   "source": [
    "Now we can once again make a `for` loop to compare LFP and NMC811, and pick out some interesting cell properties:"
   ]
  },
  {
   "cell_type": "code",
   "execution_count": 10,
   "id": "75638077",
   "metadata": {},
   "outputs": [
    {
     "name": "stdout",
     "output_type": "stream",
     "text": [
      "\u001b[1m2×4 DataFrame\u001b[0m\n",
      "\u001b[1m Row \u001b[0m│\u001b[1m material \u001b[0m\u001b[1m grav_energy \u001b[0m\u001b[1m vol_energy \u001b[0m\u001b[1m cell_thickness \u001b[0m\n",
      "\u001b[1m     \u001b[0m│\u001b[90m String   \u001b[0m\u001b[90m Number      \u001b[0m\u001b[90m Number     \u001b[0m\u001b[90m Number         \u001b[0m\n",
      "─────┼───────────────────────────────────────────────────\n",
      "   1 │ NMC811     333.0±10.0  761.0±27.0     0.901±0.022\n",
      "   2 │ LFP         267.1±8.9  531.0±21.0     1.129±0.038\n"
     ]
    }
   ],
   "source": [
    "result = DataFrame(material = String[], grav_energy = Number[], vol_energy = Number[], \n",
    "    cell_thickness = Number[])\n",
    "\n",
    "for i in 1:nrow(positives)\n",
    "    \n",
    "    cell = automotive_pouch(\n",
    "        positive = Electrode(\n",
    "            ElectrodeComposite(\n",
    "                active_material = positives[i,1], \n",
    "                areal_cap = 3.3 ± 0.1, \n",
    "                active_frac = 0.95 ± 0.02, \n",
    "                density = positives[i,2]),\n",
    "            Al14\n",
    "        ),\n",
    "        \n",
    "        negative = Electrode(\n",
    "            ElectrodeComposite(\n",
    "                active_material = Li_metal,          # <----\n",
    "                areal_cap = 10.32,                   # <---- I know from calculations, 50 µm Li ~= 10.3 mAh/cm2\n",
    "                active_frac = 1,                     # <---- 100% Li metal\n",
    "                density = 0.534),                    # <---- Density of Li metal\n",
    "            Cu8\n",
    "        )\n",
    "    )\n",
    "    \n",
    "    push!(result, [positives[i,1].name, gravimetric_energy(cell), volumetric_energy(cell),\n",
    "            thickness(cell)])\n",
    "    \n",
    "end\n",
    "\n",
    "println(result)"
   ]
  },
  {
   "cell_type": "markdown",
   "id": "db3fa2b4",
   "metadata": {},
   "source": [
    "This gives us LFP cell with an energy density of 267 Wh/kg (+4% vs NMC811/Gr), 531 Wh/L (-16% vs NMC811/Gr) - so a like-for-like LFP/50 µm Li cell has a similar energy density to NMC811/Gr, but a lower volumetric energy density."
   ]
  },
  {
   "cell_type": "markdown",
   "id": "17121d65",
   "metadata": {},
   "source": [
    "# 5. Li metal-solid state\n",
    "\n",
    "We are also interested in solid state, since as was mentioned companies such as QuantumScape have indicated they are looking into it. We can consider two concepts which are perhaps of highest interest right now - an oxide based separator, such as LLZO, with a liquid catholyte, or a completely all-solid cell with a sulfide electrolyte.\n",
    "\n",
    "We'll start with the LLZO. Let's assume that the separator has to be at least 20 µm thick, and LLZO has a density of 5.1 g/cc:"
   ]
  },
  {
   "cell_type": "code",
   "execution_count": 11,
   "id": "df5502ab",
   "metadata": {},
   "outputs": [
    {
     "data": {
      "text/plain": [
       "Separator\n",
       "  name: String \"LLZO\"\n",
       "  thickness: Float64 0.002\n",
       "  porosity: Int64 0\n",
       "  density: Float64 5.1\n"
      ]
     },
     "execution_count": 11,
     "metadata": {},
     "output_type": "execute_result"
    }
   ],
   "source": [
    "LLZO = Separator(name = \"LLZO\", thickness = 20E-4, porosity = 0, density = 5.1)"
   ]
  },
  {
   "cell_type": "markdown",
   "id": "e3798aae",
   "metadata": {},
   "source": [
    "For now we'll keep it simple and assume we're still using the same 50 µm Li metal foil.\n",
    "\n",
    "The complicated thing here is what to do with the electrolyte, or catholyte, in this case. We are assuming that there is no liquid in the separator, or on the anode side, but there is some in the cathode. We can do some more complicated calculations to work out the pore volume of the electrode, but for now let's just assume that we can take the electrolyte volume from the previous cells and divide it by 3.\n",
    "\n",
    "(Note: I have previously worked out the pore volume for similar electrodes, and it comes out fairly close to this approximation, so we'll roll with it.)"
   ]
  },
  {
   "cell_type": "code",
   "execution_count": 12,
   "id": "cecd56fa",
   "metadata": {},
   "outputs": [
    {
     "name": "stdout",
     "output_type": "stream",
     "text": [
      "\u001b[1m2×4 DataFrame\u001b[0m\n",
      "\u001b[1m Row \u001b[0m│\u001b[1m material \u001b[0m\u001b[1m grav_energy \u001b[0m\u001b[1m vol_energy \u001b[0m\u001b[1m cell_thickness \u001b[0m\n",
      "\u001b[1m     \u001b[0m│\u001b[90m String   \u001b[0m\u001b[90m Number      \u001b[0m\u001b[90m Number     \u001b[0m\u001b[90m Number         \u001b[0m\n",
      "─────┼───────────────────────────────────────────────────\n",
      "   1 │ NMC811      296.1±9.4  716.0±25.0     0.957±0.022\n",
      "   2 │ LFP         239.5±8.0  505.0±20.0     1.185±0.038\n"
     ]
    }
   ],
   "source": [
    "result = DataFrame(material = String[], grav_energy = Number[], vol_energy = Number[], \n",
    "    cell_thickness = Number[])\n",
    "\n",
    "for i in 1:nrow(positives)\n",
    "    \n",
    "    cell = automotive_pouch(\n",
    "        positive = Electrode(\n",
    "            ElectrodeComposite(\n",
    "                active_material = positives[i,1], \n",
    "                areal_cap = 3.3 ± 0.1, \n",
    "                active_frac = 0.95 ± 0.02, \n",
    "                density = positives[i,2]),\n",
    "            Al14\n",
    "        ),\n",
    "        \n",
    "        negative = Electrode(\n",
    "            ElectrodeComposite(\n",
    "                active_material = Li_metal,         \n",
    "                areal_cap = 10.32,                  \n",
    "                active_frac = 1,                    \n",
    "                density = 0.534),                   \n",
    "            Cu8\n",
    "        ),\n",
    "        \n",
    "        separator = LLZO,                 # <-----\n",
    "        ecap_ratio = (1.7 ± 0.1) * 0.33   # <-----\n",
    "    )\n",
    "    \n",
    "    push!(result, [positives[i,1].name, gravimetric_energy(cell), volumetric_energy(cell),\n",
    "            thickness(cell)])\n",
    "    \n",
    "end\n",
    "\n",
    "println(result)"
   ]
  },
  {
   "cell_type": "markdown",
   "id": "ea826f65",
   "metadata": {},
   "source": [
    "This now gives us an NMC811 cell with 296 Wh/kg and 716 Wh/L, vs 240 Wh/kg and 505 Wh/L for LFP. Lower than the liquid electrolyte, especially in gravimetric thanks to the much heavier separator, but a little lower in volumetric since the separator is a bit thicker."
   ]
  },
  {
   "cell_type": "markdown",
   "id": "5396fb13",
   "metadata": {},
   "source": [
    "# 6. Anode free\n",
    "\n",
    "Now, we also want to consider the 'anode free' case, in which the only Li metal used in the cell is that which can be de-intercalated out of the cathode and plated onto the current collector. The model is not really set up for this, but I hack it in the following way.\n",
    "\n",
    "First - I make a Li anode with an n/p ratio of 1 (i.e., the same capacity of anode as cathode). This will also give me the theoretical thickness of the cell when it is fully charged (i.e., all the Li is plated on the anode as the metal).\n",
    "\n",
    "However - I don't want that Li metal included in my gravimetric energy calculation, because it 'belongs' to the cathode. So I can just make a new function which re-calculates the energy density, using the mass of the cell minus the mass of all the Li metal:"
   ]
  },
  {
   "cell_type": "code",
   "execution_count": 13,
   "id": "67637dac",
   "metadata": {},
   "outputs": [
    {
     "data": {
      "text/plain": [
       "gravimetric_energy_anodefree (generic function with 1 method)"
      ]
     },
     "execution_count": 13,
     "metadata": {},
     "output_type": "execute_result"
    }
   ],
   "source": [
    "function gravimetric_energy_anodefree(cell::PouchCell)\n",
    "    return 1000 * cell.energy / (mass(cell) - (2 * mass(cell.negative.composite) * cell.jr_area))\n",
    "end"
   ]
  },
  {
   "cell_type": "markdown",
   "id": "958fe229",
   "metadata": {},
   "source": [
    "Now, if I include these changes in the model, and that new function, and run it:"
   ]
  },
  {
   "cell_type": "code",
   "execution_count": 14,
   "id": "6c9b4b7d",
   "metadata": {
    "scrolled": true
   },
   "outputs": [
    {
     "name": "stdout",
     "output_type": "stream",
     "text": [
      "\u001b[1m2×4 DataFrame\u001b[0m\n",
      "\u001b[1m Row \u001b[0m│\u001b[1m material \u001b[0m\u001b[1m grav_energy \u001b[0m\u001b[1m vol_energy \u001b[0m\u001b[1m cell_thickness \u001b[0m\n",
      "\u001b[1m     \u001b[0m│\u001b[90m String   \u001b[0m\u001b[90m Number      \u001b[0m\u001b[90m Number     \u001b[0m\u001b[90m Number         \u001b[0m\n",
      "─────┼───────────────────────────────────────────────────\n",
      "   1 │ NMC811     318.0±10.0  963.0±37.0     0.712±0.022\n",
      "   2 │ LFP         255.6±8.7  637.0±28.0      0.94±0.038\n"
     ]
    }
   ],
   "source": [
    "result = DataFrame(material = String[], grav_energy = Number[], vol_energy = Number[], \n",
    "    cell_thickness = Number[])\n",
    "\n",
    "for i in 1:nrow(positives)\n",
    "    \n",
    "    cell = automotive_pouch(\n",
    "        positive = Electrode(\n",
    "            ElectrodeComposite(\n",
    "                active_material = positives[i,1], \n",
    "                areal_cap = 3.3 ± 0.1, \n",
    "                active_frac = 0.95 ± 0.02, \n",
    "                density = positives[i,2]),\n",
    "            Al14\n",
    "        ),\n",
    "        \n",
    "        negative = Electrode(\n",
    "            ElectrodeComposite(\n",
    "                active_material = Li_metal,          \n",
    "                areal_cap = 3.3 ± 0.1,          # <-------            \n",
    "                active_frac = 1,                    \n",
    "                density = 0.534),                \n",
    "            Cu8\n",
    "        ),\n",
    "        \n",
    "        separator = LLZO,\n",
    "        ecap_ratio = (1.7 ± 0.1) * 0.33\n",
    "    )\n",
    "    \n",
    "    push!(result, [positives[i,1].name, gravimetric_energy_anodefree(cell), # <---- \n",
    "            volumetric_energy(cell), thickness(cell)])\n",
    "    \n",
    "end\n",
    "\n",
    "println(result)"
   ]
  },
  {
   "cell_type": "markdown",
   "id": "a13d7320",
   "metadata": {},
   "source": [
    "Now we have an NMC811 cell with 318 Wh/kg and 963 Wh/L, and an LFP/Li cell with 255 Wh/kg, and 637 Wh/L. This gives us an LFP/Li cell with very nearly the same energy density, both gravimetric and volumetric, as the NMC811/Gr cell, thanks to removing that very light excess Li metal!\n",
    "\n",
    "## 6.1 Sulfide electrolyte\n",
    "\n",
    "We can also consider the sulfide electrolytes, as developed by companies such as Solid Power. Compared to the oxides, the sulfides are less dense, and also mechanically soft enough that they are considered more suitable for all-solid-state batteries with no liquid component. To account for these correctly, we can consider a separator of a perfectly dense sulfide with an assumed density of 2.0 g/cc, and and an electrolyte component (which sits in the cathode pores), with the same density:"
   ]
  },
  {
   "cell_type": "code",
   "execution_count": 15,
   "id": "2b3a39a2",
   "metadata": {},
   "outputs": [
    {
     "data": {
      "text/plain": [
       "Electrolyte\n",
       "  salt: String \"Sulfide electrolyte\"\n",
       "  solvent: String \"NA\"\n",
       "  concentration: Nothing nothing\n",
       "  density: Float64 2.0\n",
       "  saltmassfrac: Nothing nothing\n"
      ]
     },
     "execution_count": 15,
     "metadata": {},
     "output_type": "execute_result"
    }
   ],
   "source": [
    "sulfide_SE = Separator(name = \"Sulfide SE\", thickness = 20E-4, porosity = 0, density = 2.0)\n",
    "sulfide_electrolyte = Electrolyte(salt = \"Sulfide electrolyte\", solvent = \"NA\", density = 2.0)"
   ]
  },
  {
   "cell_type": "markdown",
   "id": "c1d1346d",
   "metadata": {},
   "source": [
    "Let's assume that the volume fraction of the 'catholyte' component is the same as in the previous LLZO/catholyte case:"
   ]
  },
  {
   "cell_type": "code",
   "execution_count": 16,
   "id": "35288a7a",
   "metadata": {},
   "outputs": [
    {
     "name": "stdout",
     "output_type": "stream",
     "text": [
      "\u001b[1m2×4 DataFrame\u001b[0m\n",
      "\u001b[1m Row \u001b[0m│\u001b[1m material \u001b[0m\u001b[1m grav_energy \u001b[0m\u001b[1m vol_energy \u001b[0m\u001b[1m cell_thickness \u001b[0m\n",
      "\u001b[1m     \u001b[0m│\u001b[90m String   \u001b[0m\u001b[90m Number      \u001b[0m\u001b[90m Number     \u001b[0m\u001b[90m Number         \u001b[0m\n",
      "─────┼───────────────────────────────────────────────────\n",
      "   1 │ NMC811     366.0±12.0  963.0±37.0     0.712±0.022\n",
      "   2 │ LFP        291.0±10.0  637.0±28.0      0.94±0.038\n"
     ]
    }
   ],
   "source": [
    "result = DataFrame(material = String[], grav_energy = Number[], vol_energy = Number[], \n",
    "    cell_thickness = Number[])\n",
    "\n",
    "for i in 1:nrow(positives)\n",
    "    \n",
    "    cell = automotive_pouch(\n",
    "        positive = Electrode(\n",
    "            ElectrodeComposite(\n",
    "                active_material = positives[i,1], \n",
    "                areal_cap = 3.3 ± 0.1, \n",
    "                active_frac = 0.95 ± 0.02, \n",
    "                density = positives[i,2]),\n",
    "            Al14\n",
    "        ),\n",
    "        \n",
    "        negative = Electrode(\n",
    "            ElectrodeComposite(\n",
    "                active_material = Li_metal,          \n",
    "                areal_cap = 3.3 ± 0.1,               \n",
    "                active_frac = 1,                    \n",
    "                density = 0.534),                \n",
    "            Cu8\n",
    "        ),\n",
    "        \n",
    "        separator = sulfide_SE,           # <---\n",
    "        electrolyte = sulfide_electrolyte,\n",
    "        ecap_ratio = (1.7 ± 0.1) * 0.33\n",
    "    )\n",
    "    \n",
    "    push!(result, [positives[i,1].name, gravimetric_energy_anodefree(cell), volumetric_energy(cell),\n",
    "            thickness(cell)])\n",
    "    \n",
    "end\n",
    "\n",
    "println(result)"
   ]
  },
  {
   "cell_type": "markdown",
   "id": "c0f490df",
   "metadata": {},
   "source": [
    "The result is that the volumetric energy densities are the same (all the thicknesses are identical), but the gravimetric energy is increased, up to 366 Wh/kg for NMC811 and 291 Wh/kg for LFP: 13% higher than the NMC811/Gr baseline."
   ]
  },
  {
   "cell_type": "markdown",
   "id": "ece2936d",
   "metadata": {},
   "source": [
    "# 7. Summary\n",
    "\n",
    "We have looked at modelling several different types of cells - LFP, Li metal, solid state, anode-free; and using batch processing to conveniently test several different cases.\n",
    "\n",
    "In terms of technical results, we've seen that LFP is typically around 20% lower in gravimetric energy compared to NMC811, if the electrodes are prepared to similar specifications, but lower still in volumetric energy due to a lower bulk density.\n",
    "\n",
    "However, LFP-Li cells, even solid state with relatively heavy oxide separators, could provide effectively the same energy density as NMC811/Gr cells, but would be expected to be much safer, due to the elimination of several thermal runaway triggers (oxidising cathode, large reduction in flammable components namely separator, graphite, and much of the liquid electrolyte), and could be cheaper. With sulfide electrolytes, they could be higher still.\n",
    "\n",
    "It's perhaps not surprising it's getting attention..."
   ]
  }
 ],
 "metadata": {
  "@webio": {
   "lastCommId": null,
   "lastKernelId": null
  },
  "kernelspec": {
   "display_name": "JuliaPro_v1.5.3-1 1.5.3",
   "language": "julia",
   "name": "juliapro_v1.5.3-1-1.5"
  },
  "language_info": {
   "file_extension": ".jl",
   "mimetype": "application/julia",
   "name": "julia",
   "version": "1.5.3"
  }
 },
 "nbformat": 4,
 "nbformat_minor": 5
}
