{
 "cells": [
  {
   "cell_type": "markdown",
   "id": "e93aa98f",
   "metadata": {},
   "source": [
    "# Quick start and cylindrical cell example\n",
    "\n",
    "First: Download the cellmodel.jl file and run it. This notebook is tested with Julia v 1.5.3.\n",
    "\n",
    "**Note**: you must have the packages Measurements, Parameters, QuadGK, DataFrames installed.\n",
    "Missing packages can be installed by running the following line at the REPL for each package:\n",
    "\n",
    "`Pkg.add(\"packagename\")`"
   ]
  },
  {
   "cell_type": "code",
   "execution_count": 1,
   "id": "78e64a71",
   "metadata": {},
   "outputs": [
    {
     "data": {
      "text/plain": [
       "volumetric_energy (generic function with 3 methods)"
      ]
     },
     "execution_count": 1,
     "metadata": {},
     "output_type": "execute_result"
    }
   ],
   "source": [
    "# Skip this line if it's already in the working folder.\n",
    "download(\"https://raw.githubusercontent.com/mjlacey/cellmodels/master/cellmodel.jl\", \"cellmodel.jl\")\n",
    "\n",
    "# Include the cellmodel.jl file it to load the required packages and functions.\n",
    "include(\"cellmodel.jl\")"
   ]
  },
  {
   "cell_type": "markdown",
   "id": "6161bf53",
   "metadata": {},
   "source": [
    "It is useful to define all materials (active materials, current collectors, separators, electrolytes) bearing in mind that all cell models are constructed in the following manner. Each component starting with a capital letter below is a `struct` in Julia with different properties (some of which are other `structs`), ordered like so:\n",
    "\n",
    "```\n",
    "Cell\n",
    "    - Electrode (+)\n",
    "        - ElectrodeComposite (+)\n",
    "            - ActiveMaterial (+)\n",
    "        - CurrentCollector (+)\n",
    "    - Electrode\n",
    "        - ElectrodeComposite (-)\n",
    "            - ActiveMaterial (-)\n",
    "        - CurrentCollector (-)\n",
    "    - Separator\n",
    "    - Electrolyte\n",
    "```\n",
    "\n",
    "There are several different cell types at present."
   ]
  },
  {
   "cell_type": "markdown",
   "id": "c0180a93",
   "metadata": {},
   "source": [
    "## 1. Material definitions\n",
    "\n",
    "### 1.1 Active material definition\n",
    "\n",
    "Active (e.g. electrode) material definitions are simply made in the form:\n",
    "\n",
    "`ActiveMaterial(\"Name\", specific_capacity, average_potential)`\n",
    "\n",
    "Specific capacities have units of mAh/g, average potential in V.\n",
    "\n",
    "The model does not take voltage cutoffs into account at present so care must be taken to ensure given values are appropriate. Errors (treated as 95% confidence intervals) can be given using the ± operator). Mixtures of materials can be estimated by linear combination."
   ]
  },
  {
   "cell_type": "code",
   "execution_count": 2,
   "id": "62eb8c60",
   "metadata": {},
   "outputs": [
    {
     "data": {
      "text/plain": [
       "ActiveMaterial\n",
       "  name: String \"3.5% Si/Gr\"\n",
       "  spec_cap: Measurement{Float64}\n",
       "  avg_E: Float64 0.17805\n"
      ]
     },
     "execution_count": 2,
     "metadata": {},
     "output_type": "execute_result"
    }
   ],
   "source": [
    "# Active materials\n",
    "\n",
    "# Positive electrodes\n",
    "NMC811 = ActiveMaterial(\"NMC811\", 195 ± 5, 3.86)    # NMC811 determined from literature\n",
    "NMC622 = ActiveMaterial(\"NMC622\", 181 ± 4.5, 3.86)  # NMC622 determined from literature\n",
    "NCA = ActiveMaterial(\"NCA\", 210 ± 10, 3.86)         # NCA values estimated\n",
    "\n",
    "# Negative electrodes\n",
    "Gr = ActiveMaterial(\"Graphite\", 344 ± 8.6, 0.17)    # Gr determined from literature\n",
    "GrSi3_5 = ActiveMaterial(\"3.5% Si/Gr\", \n",
    "    ((344 ± 8.6) * 0.965) + ((2200 ± 200) * 0.035),\n",
    "    (0.17 * 0.965) + (0.4 * 0.035))                 # 3.5% Si/Gr estimated from linear combination, assuming\n",
    "                                                    # Si gives 2200 ± 200 mAh/g @ 0.4 V."
   ]
  },
  {
   "cell_type": "markdown",
   "id": "95309492",
   "metadata": {},
   "source": [
    "### 1.2 Current collector definition\n",
    "\n",
    "Current collectors can be defined using the form:\n",
    "\n",
    "`CurrentCollector(\"Element\", thickness)`\n",
    "\n",
    "It recognises Al and Cu, and selects the density accordingly. Thicknesses are given in cm."
   ]
  },
  {
   "cell_type": "code",
   "execution_count": 3,
   "id": "530321cf",
   "metadata": {},
   "outputs": [
    {
     "data": {
      "text/plain": [
       "CurrentCollector\n",
       "  name: String \"Cu\"\n",
       "  thickness: Float64 0.0008\n",
       "  density: Float64 8.96\n",
       "  mass: #undef\n"
      ]
     },
     "execution_count": 3,
     "metadata": {},
     "output_type": "execute_result"
    }
   ],
   "source": [
    "# Current collectors\n",
    "Al14 = CurrentCollector(\"Al\", 14E-4) # 14 µm Al\n",
    "Cu8 = CurrentCollector(\"Cu\", 8E-4)   # 8 µm Al"
   ]
  },
  {
   "cell_type": "markdown",
   "id": "212597ec",
   "metadata": {},
   "source": [
    "### 1.3 Electrolyte definition\n",
    "\n",
    "Electrolytes are defined in the following manner:\n",
    "\n",
    "`Electrolyte(salt, solvent, concentration, density, saltmassfrac)`\n",
    "\n",
    "This is done in a way that for some electrolytes, a concentration can be given from which a density is calculated, according to a known concentration-density relationship. At the moment, this is only available for LiPF6 in EC:DEC from literature values. Otherwise, density should be given, but concentration and saltmassfrac (salt mass fraction) can be left blank."
   ]
  },
  {
   "cell_type": "code",
   "execution_count": 4,
   "id": "3b473f65",
   "metadata": {},
   "outputs": [
    {
     "data": {
      "text/plain": [
       "Electrolyte\n",
       "  salt: String \"LiPF6\"\n",
       "  solvent: String \"EC:DEC\"\n",
       "  concentration: Measurement{Float64}\n",
       "  density: Measurement{Float64}\n",
       "  saltmassfrac: Measurement{Float64}\n"
      ]
     },
     "execution_count": 4,
     "metadata": {},
     "output_type": "execute_result"
    }
   ],
   "source": [
    "# Electrolytes\n",
    "LP40 = Electrolyte(salt = \"LiPF6\", solvent = \"EC:DEC\", concentration = 1.1 ± 0.1)"
   ]
  },
  {
   "cell_type": "markdown",
   "id": "98ffbb22",
   "metadata": {},
   "source": [
    "### 1.4 Separator definition\n",
    "\n",
    "Separators are defined in the following manner:\n",
    "\n",
    "`Separator(name, thickness, porosity, density)`.\n",
    "\n",
    "This is a bit broken at the moment, because the `porosity` argument does nothing - the `density` is the effective density of the separator, not the bulk (100% dense) density."
   ]
  },
  {
   "cell_type": "code",
   "execution_count": 5,
   "id": "26f39702",
   "metadata": {},
   "outputs": [
    {
     "data": {
      "text/plain": [
       "Separator\n",
       "  name: String \"porous PE + alumina\"\n",
       "  thickness: Float64 0.0012\n",
       "  porosity: Float64 0.44\n",
       "  density: Float64 1.18\n"
      ]
     },
     "execution_count": 5,
     "metadata": {},
     "output_type": "execute_result"
    }
   ],
   "source": [
    "# Separator\n",
    "PE_Al12 = Separator(name = \"porous PE + alumina\", thickness = 12E-4, porosity = 0.44, density = 1.18)"
   ]
  },
  {
   "cell_type": "markdown",
   "id": "375ce5f9",
   "metadata": {},
   "source": [
    "## 2. Cell definition\n",
    "\n",
    "This example will use the `CylindricalCell` model, initialised using the form `CylindricalCell(params...)`. There are several parameters for a cell. In the below example we will create a basic NMC622/Gr cell using the above-described materials.\n",
    "\n",
    "Creating a cell model will generate a summary of the key cell properties as output."
   ]
  },
  {
   "cell_type": "code",
   "execution_count": 6,
   "id": "0f1cc84f",
   "metadata": {},
   "outputs": [
    {
     "data": {
      "text/plain": [
       "Example cylindrical cell\n",
       "NMC622 cathode @ 3.3 ± 0.1 mAh/cm2\n",
       "4.29 ± 0.22 Ah, 15.84 ± 0.79 Wh\n",
       "71.1 ± 2.9 g\n",
       "222.8 ± 9.4 Wh/kg\n",
       "653.0 ± 33.0 Wh/L\n"
      ]
     },
     "execution_count": 6,
     "metadata": {},
     "output_type": "execute_result"
    }
   ],
   "source": [
    "example_cylindrical = CylindricalCell(\n",
    "\n",
    "    name = \"Example cylindrical cell\",   # A name for the cell\n",
    "\n",
    "    positive = Electrode(\n",
    "        ElectrodeComposite(             # An electrode is composed of an electrode composite, which has:\n",
    "            active_material = NMC622,   # Active material, defined above\n",
    "            areal_cap = 3.3 ± 0.1,      # An areal capacity, in mAh/cm2\n",
    "            active_frac = 0.95 ± 0.02,  # An active material fraction, in %\n",
    "            density = 3.4 ± 0.1         # A (calendered) density, in g/cm3\n",
    "        ),\n",
    "        Al14                            # The composite is coated on the current collector, defined above.\n",
    "    ),\n",
    "    \n",
    "    negative = Electrode(               # The negative electrode is similarly defined.\n",
    "        ElectrodeComposite(\n",
    "            active_material = Gr,\n",
    "            areal_cap = (3.3 ± 0.1) * (1.1 ± 0.03),  # Can, if desired, specify n/p ratio in this way.\n",
    "            active_frac = 0.965 ± 0.01,\n",
    "            density = 1.6 ± 0.1\n",
    "        ),\n",
    "        Cu8\n",
    "    ),\n",
    "            \n",
    "    separator = PE_Al12,                # Separator and electrolyte, as defined above.\n",
    "    electrolyte = LP40,\n",
    "    \n",
    "    # Then, the cell has the following properties and dimensions:\n",
    "    \n",
    "    ecap_ratio = 1.7 ± 0.1,              # Electrolyte/capacity ratio, in mL/Ah; used for calculating electrolyte mass\n",
    "    \n",
    "    diameter = 2.1, height = 7.0,       # For a 2170 cell\n",
    "    canthickness = 0.0165,              # Thickness of the cell can, in cm\n",
    "    candensity = 7.9 ± 0.2,             # Density of the can material, in this case steel\n",
    "    voiddiameter = 0.25,                # The diameter of the 'void'/empty space in the centre of the winding/jelly roll, in cm\n",
    "    headspace = 0.6,                    # The distance from the top of the can to the top of the jelly roll, in cm\n",
    "    extramass = 4 ± 2,                  # A fudge factor; any other unaccounted mass (terminals, safety features), in g\n",
    "    \n",
    "    llifactor = 0.94 ± 0.02             # Another fudge factor; adjustment of ideal capacity accounting for first cycle loss.\n",
    "                                        # 6% first cycle loss (typical) would be 0.94 for this parameter.\n",
    ")"
   ]
  },
  {
   "cell_type": "markdown",
   "id": "cd25e580",
   "metadata": {},
   "source": [
    "## 3. Examples of cell property analysis"
   ]
  },
  {
   "cell_type": "markdown",
   "id": "27752071",
   "metadata": {},
   "source": [
    "Properties of each cell, as defined by\n",
    "\n",
    "`cell = CylindricalCell(params...)`\n",
    "\n",
    "can be accessed e.g. by\n",
    "\n",
    "`cell.property`\n",
    "\n",
    "Creating a cell model creates three new properties, `jr_area` (jelly roll area, in cm2), `capacity` (capacity of the cell, in Ah) and `energy` (energy of the cell, in Wh).\n",
    "\n",
    "There are several functions available currently for analysing cell properties, which work with many (but perhaps not all) cell types, or cell properties. Examples of functions include:\n",
    "\n",
    "`thickness()`\n",
    "\n",
    "`mass()`\n",
    "\n",
    "`massbreakdown()`\n",
    "\n",
    "`gravimetric_energy()`\n",
    "\n",
    "`volumetric_energy()`\n",
    "\n",
    "Some examples follow below."
   ]
  },
  {
   "cell_type": "code",
   "execution_count": 7,
   "id": "dfb074e2",
   "metadata": {},
   "outputs": [
    {
     "data": {
      "text/latex": [
       "$0.01269 \\pm 0.0006$"
      ],
      "text/plain": [
       "0.01269 ± 0.0006"
      ]
     },
     "execution_count": 7,
     "metadata": {},
     "output_type": "execute_result"
    }
   ],
   "source": [
    "# Thickness of the positive electrode (current collector + double sided coating, in cm)\n",
    "thickness(example_cylindrical.positive)"
   ]
  },
  {
   "cell_type": "code",
   "execution_count": 8,
   "id": "6f0db08d",
   "metadata": {},
   "outputs": [
    {
     "data": {
      "text/latex": [
       "$0.00564 \\pm 0.0003$"
      ],
      "text/plain": [
       "0.00564 ± 0.0003"
      ]
     },
     "execution_count": 8,
     "metadata": {},
     "output_type": "execute_result"
    }
   ],
   "source": [
    "# Thickness of the positive electrode *coating* only, in cm\n",
    "thickness(example_cylindrical.positive.composite)"
   ]
  },
  {
   "cell_type": "code",
   "execution_count": 9,
   "id": "c18555b8",
   "metadata": {},
   "outputs": [
    {
     "data": {
      "text/plain": [
       "0.0014159999999999997"
      ]
     },
     "execution_count": 9,
     "metadata": {},
     "output_type": "execute_result"
    }
   ],
   "source": [
    "# Mass of the separator, in mg/cm2. To get cell-level information, multiply by jr_area\n",
    "mass(example_cylindrical.separator)"
   ]
  },
  {
   "cell_type": "code",
   "execution_count": 10,
   "id": "b8e9bf67",
   "metadata": {},
   "outputs": [
    {
     "data": {
      "text/latex": [
       "$0.98 \\pm 0.042$"
      ],
      "text/plain": [
       "0.98 ± 0.042"
      ]
     },
     "execution_count": 10,
     "metadata": {},
     "output_type": "execute_result"
    }
   ],
   "source": [
    "# Total mass of separator in the cell\n",
    "mass(example_cylindrical.separator) * example_cylindrical.jr_area"
   ]
  },
  {
   "cell_type": "code",
   "execution_count": 11,
   "id": "26dbe9a2",
   "metadata": {},
   "outputs": [
    {
     "data": {
      "text/latex": [
       "$222.8 \\pm 9.4$"
      ],
      "text/plain": [
       "222.8 ± 9.4"
      ]
     },
     "execution_count": 11,
     "metadata": {},
     "output_type": "execute_result"
    }
   ],
   "source": [
    "# Gravimetric energy density of the cell, in Wh/kg\n",
    "gravimetric_energy(example_cylindrical)"
   ]
  },
  {
   "cell_type": "code",
   "execution_count": 12,
   "id": "2fb4c376",
   "metadata": {},
   "outputs": [
    {
     "data": {
      "text/html": [
       "<table class=\"data-frame\"><thead><tr><th></th><th>component</th><th>mass</th><th>percentage</th></tr><tr><th></th><th>String</th><th>Number</th><th>Measure…</th></tr></thead><tbody><p>7 rows × 3 columns</p><tr><th>1</th><td>+ve cc</td><td>2.61±0.11</td><td>3.68±0.15</td></tr><tr><th>2</th><td>+ve composite</td><td>26.6±1.3</td><td>37.4±1.5</td></tr><tr><th>3</th><td>-ve cc</td><td>4.96±0.21</td><td>6.98±0.28</td></tr><tr><th>4</th><td>-ve composite</td><td>15.13±0.67</td><td>21.3±1.1</td></tr><tr><th>5</th><td>separator</td><td>1.959±0.085</td><td>2.76±0.11</td></tr><tr><th>6</th><td>electrolyte</td><td>8.99±0.7</td><td>12.65±0.84</td></tr><tr><th>7</th><td>packaging</td><td>10.9±2.0</td><td>15.3±2.4</td></tr></tbody></table>"
      ],
      "text/latex": [
       "\\begin{tabular}{r|ccc}\n",
       "\t& component & mass & percentage\\\\\n",
       "\t\\hline\n",
       "\t& String & Number & Measure…\\\\\n",
       "\t\\hline\n",
       "\t1 & +ve cc & $2.61 \\pm 0.11$ & $3.68 \\pm 0.15$ \\\\\n",
       "\t2 & +ve composite & $26.6 \\pm 1.3$ & $37.4 \\pm 1.5$ \\\\\n",
       "\t3 & -ve cc & $4.96 \\pm 0.21$ & $6.98 \\pm 0.28$ \\\\\n",
       "\t4 & -ve composite & $15.13 \\pm 0.67$ & $21.3 \\pm 1.1$ \\\\\n",
       "\t5 & separator & $1.959 \\pm 0.085$ & $2.76 \\pm 0.11$ \\\\\n",
       "\t6 & electrolyte & $8.99 \\pm 0.7$ & $12.65 \\pm 0.84$ \\\\\n",
       "\t7 & packaging & $10.9 \\pm 2.0$ & $15.3 \\pm 2.4$ \\\\\n",
       "\\end{tabular}\n"
      ],
      "text/plain": [
       "\u001b[1m7×3 DataFrame\u001b[0m\n",
       "\u001b[1m Row \u001b[0m│\u001b[1m component     \u001b[0m\u001b[1m mass        \u001b[0m\u001b[1m percentage \u001b[0m\n",
       "\u001b[1m     \u001b[0m│\u001b[90m String        \u001b[0m\u001b[90m Number      \u001b[0m\u001b[90m Measureme… \u001b[0m\n",
       "─────┼────────────────────────────────────────\n",
       "   1 │ +ve cc           2.61±0.11   3.68±0.15\n",
       "   2 │ +ve composite     26.6±1.3  37.4±1.5\n",
       "   3 │ -ve cc           4.96±0.21   6.98±0.28\n",
       "   4 │ -ve composite   15.13±0.67  21.3±1.1\n",
       "   5 │ separator      1.959±0.085   2.76±0.11\n",
       "   6 │ electrolyte       8.99±0.7  12.65±0.84\n",
       "   7 │ packaging         10.9±2.0  15.3±2.4"
      ]
     },
     "execution_count": 12,
     "metadata": {},
     "output_type": "execute_result"
    }
   ],
   "source": [
    "# Mass breakdown of the cell. Masses in g.\n",
    "massbreakdown(example_cylindrical)"
   ]
  }
 ],
 "metadata": {
  "@webio": {
   "lastCommId": null,
   "lastKernelId": null
  },
  "kernelspec": {
   "display_name": "JuliaPro_v1.5.3-1 1.5.3",
   "language": "julia",
   "name": "juliapro_v1.5.3-1-1.5"
  },
  "language_info": {
   "file_extension": ".jl",
   "mimetype": "application/julia",
   "name": "julia",
   "version": "1.5.3"
  }
 },
 "nbformat": 4,
 "nbformat_minor": 5
}
